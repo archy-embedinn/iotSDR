{
 "cells": [
  {
   "cell_type": "markdown",
   "metadata": {},
   "source": [
    "# iotSDR Direct IQ samples FFT to Processor Memmory  Notebook:\n"
   ]
  },
  {
   "cell_type": "markdown",
   "metadata": {},
   "source": [
    "## Setting up the environment:\n",
    "\n",
    "* import required python modules\n",
    "\n"
   ]
  },
  {
   "cell_type": "code",
   "execution_count": 1,
   "metadata": {},
   "outputs": [
    {
     "data": {
      "application/javascript": [
       "\n",
       "try {\n",
       "require(['notebook/js/codecell'], function(codecell) {\n",
       "  codecell.CodeCell.options_default.highlight_modes[\n",
       "      'magic_text/x-csrc'] = {'reg':[/^%%microblaze/]};\n",
       "  Jupyter.notebook.events.one('kernel_ready.Kernel', function(){\n",
       "      Jupyter.notebook.get_cells().map(function(cell){\n",
       "          if (cell.cell_type == 'code'){ cell.auto_highlight(); } }) ;\n",
       "  });\n",
       "});\n",
       "} catch (e) {};\n"
      ]
     },
     "metadata": {},
     "output_type": "display_data"
    },
    {
     "data": {
      "application/javascript": [
       "\n",
       "try {\n",
       "require(['notebook/js/codecell'], function(codecell) {\n",
       "  codecell.CodeCell.options_default.highlight_modes[\n",
       "      'magic_text/x-csrc'] = {'reg':[/^%%pybind11/]};\n",
       "  Jupyter.notebook.events.one('kernel_ready.Kernel', function(){\n",
       "      Jupyter.notebook.get_cells().map(function(cell){\n",
       "          if (cell.cell_type == 'code'){ cell.auto_highlight(); } }) ;\n",
       "  });\n",
       "});\n",
       "} catch (e) {};\n"
      ]
     },
     "metadata": {},
     "output_type": "display_data"
    }
   ],
   "source": [
    "from pynq import Overlay\n",
    "import iotSDR_GPS_streamer as iotSDR_GPS_streamer\n",
    "import max2769_driver as max2769_driver\n",
    "\n",
    "import fftpl\n",
    "import time\n",
    "import os"
   ]
  },
  {
   "cell_type": "code",
   "execution_count": 2,
   "metadata": {},
   "outputs": [],
   "source": [
    "import matplotlib.pyplot as plt\n",
    "import numpy as np"
   ]
  },
  {
   "cell_type": "code",
   "execution_count": 3,
   "metadata": {},
   "outputs": [],
   "source": [
    "overlay = Overlay('../bitstream/iotSDR_GPS_Receiver.bit', download=True)\n",
    "if not overlay.is_loaded():\n",
    "    overlay.download()\n",
    "    print(\"Bitfile now Loaded\")\n",
    "    \n",
    "#overlay.ip_dict\n"
   ]
  },
  {
   "cell_type": "code",
   "execution_count": 4,
   "metadata": {},
   "outputs": [],
   "source": [
    "FFT_LENGTH = 1 << 15 # 32k\n",
    "fftpl = fftpl.FFTPL(overlay,FFT_LENGTH) "
   ]
  },
  {
   "cell_type": "code",
   "execution_count": 5,
   "metadata": {},
   "outputs": [
    {
     "name": "stdout",
     "output_type": "stream",
     "text": [
      "GPS chip is configured for IF=0MHz @ 4.096MSPS\n"
     ]
    }
   ],
   "source": [
    "wordsPerBlk    = 32*1024\n",
    "gps_chip = max2769_driver.MAX2769()\n",
    "#gps_chip.gps_4096IF_config()\n",
    "\n",
    "gps_pl   = iotSDR_GPS_streamer.GPS_RX_Streaming(wordsPerBlk,overlay=overlay)\n",
    "\n"
   ]
  },
  {
   "cell_type": "code",
   "execution_count": 6,
   "metadata": {},
   "outputs": [
    {
     "name": "stdout",
     "output_type": "stream",
     "text": [
      "reset 0x81008000\n"
     ]
    }
   ],
   "source": [
    "#gps_pl.fifo_flush()\n",
    "gps_pl.enable_rf_stream(1)\n",
    "gps_pl.set_blk_size(wordsPerBlk)\n",
    "gps_pl.select_iq_for_fft(1)\n",
    "gps_pl.enable_iq_stream(0)\n",
    "gps_pl.fifo_reset()"
   ]
  },
  {
   "cell_type": "code",
   "execution_count": 7,
   "metadata": {},
   "outputs": [],
   "source": [
    "def get_fft_blk(FFT_LENGTH):\n",
    "    fftpl.fft_config_update(True)\n",
    "    sig_fft_frd = fftpl.fft_iq_samples()\n",
    "    sig_fft_frd = fftpl.deinterleave_iq(sig_fft_frd)\n",
    "\n",
    "    print(\"spectrum \", sig_fft_frd)\n",
    "    plt.plot(np.abs(sig_fft_frd))\n",
    "    \n",
    "    fs = 8*4096.0 # Hz\n",
    "    t = np.arange(0.0, 1.0, 1/fs)\n",
    "\n",
    "    plt.plot(t, sig_fft_frd.real)\n",
    "    plt.xlabel(\"Time (sec)\")\n",
    "    plt.ylabel(\"iq samples fft result\")"
   ]
  },
  {
   "cell_type": "code",
   "execution_count": 8,
   "metadata": {},
   "outputs": [],
   "source": [
    "import threading\n",
    "\"\"\"Threads for gathering dma block of samples from FFT in the background \"\"\"\n",
    "#fft_fetch  = threading.Thread(target=get_fft_blk,args =(FFT_LENGTH,))\n",
    "\n",
    "try:\n",
    "    fft_fetch  = threading.Thread(target=get_fft_blk,args =(FFT_LENGTH,))\n",
    "\n",
    "except:\n",
    "    #if fft_fetch.is_alive():\n",
    "    print('Already thread running')\n"
   ]
  },
  {
   "cell_type": "code",
   "execution_count": 9,
   "metadata": {},
   "outputs": [
    {
     "name": "stdout",
     "output_type": "stream",
     "text": [
      "0x6aaa\n"
     ]
    }
   ],
   "source": [
    "fft_fetch.start()"
   ]
  },
  {
   "cell_type": "code",
   "execution_count": 11,
   "metadata": {},
   "outputs": [
    {
     "data": {
      "image/png": "[encoded data removed]",
      "text/plain": [
       "<matplotlib.figure.Figure at 0xb414b7b0>"
      ]
     },
     "metadata": {
      "needs_background": "light"
     },
     "output_type": "display_data"
    }
   ],
   "source": [
    "gps_pl.enable_iq_stream(1)"
   ]
  },
  {
   "cell_type": "code",
   "execution_count": null,
   "metadata": {},
   "outputs": [],
   "source": []
  },
  {
   "cell_type": "code",
   "execution_count": null,
   "metadata": {},
   "outputs": [],
   "source": []
  }
 ],
 "metadata": {
  "kernelspec": {
   "display_name": "Python 3",
   "language": "python",
   "name": "python3"
  },
  "language_info": {
   "codemirror_mode": {
    "name": "ipython",
    "version": 3
   },
   "file_extension": ".py",
   "mimetype": "text/x-python",
   "name": "python",
   "nbconvert_exporter": "python",
   "pygments_lexer": "ipython3",
   "version": "3.6.5"
  }
 },
 "nbformat": 4,
 "nbformat_minor": 4
}
