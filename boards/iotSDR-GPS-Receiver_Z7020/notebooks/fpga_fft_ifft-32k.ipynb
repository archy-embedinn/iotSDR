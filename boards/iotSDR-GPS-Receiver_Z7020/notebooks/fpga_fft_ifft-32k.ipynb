{
 "cells": [
  {
   "cell_type": "markdown",
   "metadata": {},
   "source": [
    "# Working with Numpy FFT Results: Scaling and Folding"
   ]
  },
  {
   "cell_type": "markdown",
   "metadata": {},
   "source": [
    "Imports\n",
    "-------"
   ]
  },
  {
   "cell_type": "code",
   "execution_count": 1,
   "metadata": {
    "collapsed": false,
    "jupyter": {
     "outputs_hidden": false
    }
   },
   "outputs": [],
   "source": [
    "%matplotlib inline\n",
    "import numpy as np\n",
    "import matplotlib.pyplot as plt\n",
    "import sys\n",
    "\n"
   ]
  },
  {
   "cell_type": "markdown",
   "metadata": {},
   "source": [
    "Create a Test Signal\n",
    "--------------------\n",
    "$f_s$ is the sampling frequency, while $f$ is a base frequency for the signal content. We create a signal that contains components at a couple of multiples of this base frequency. Note the amplitudes here since we will be trying to extract those correctly from the FFT later."
   ]
  },
  {
   "cell_type": "code",
   "execution_count": 21,
   "metadata": {
    "collapsed": false,
    "jupyter": {
     "outputs_hidden": false
    }
   },
   "outputs": [
    {
     "name": "stdout",
     "output_type": "stream",
     "text": [
      "[ -958.  +0.j  -703.+314.j  1214.+628.j ...,  -866.-942.j  -144.-628.j\n",
      " -1056.-314.j]\n",
      "32768\n"
     ]
    }
   ],
   "source": [
    "fs = 8*4096.0 # Hz\n",
    "f   = 50.0 # Hz\n",
    "t = np.arange(0.0, 1.0, 1/fs)\n",
    "i = 0.1 * np.cos(2 * np.pi * f * t) + np.random.randn(len(t))#+ 2 * np.sin(10 * 2 * np.pi * f * time)\n",
    "q = 0.1 * np.sin(2 * np.pi * f * t) #+ 2 * np.sin(10 * 2 * np.pi * f * time)\n",
    "\n",
    "x = i + 1j*q\n",
    "NORM = np.max(abs(x.real))/0.1\n",
    "x.real = np.int16(x.real/(NORM) * (2**15 - 1))\n",
    "x.imag = np.int16(x.imag/np.max(abs(x.imag)) * (2**15 - 1))\n",
    "print(x)\n",
    "print(len(x))\n"
   ]
  },
  {
   "cell_type": "code",
   "execution_count": 22,
   "metadata": {
    "collapsed": false,
    "jupyter": {
     "outputs_hidden": false
    }
   },
   "outputs": [
    {
     "data": {
      "text/plain": [
       "Text(0,0.5,'x')"
      ]
     },
     "execution_count": 22,
     "metadata": {},
     "output_type": "execute_result"
    },
    {
     "data": {
      "image/png": "[encoded data removed]",
      "text/plain": [
       "<matplotlib.figure.Figure at 0xad732990>"
      ]
     },
     "metadata": {
      "needs_background": "light"
     },
     "output_type": "display_data"
    }
   ],
   "source": [
    "plt.plot(t, x)\n",
    "plt.xlabel(\"Time (sec)\")\n",
    "plt.ylabel(\"x\")"
   ]
  },
  {
   "cell_type": "code",
   "execution_count": 23,
   "metadata": {},
   "outputs": [],
   "source": [
    "from pynq import Overlay\n",
    "\n",
    "#ol = Overlay('./iotSDR_GPS.bit')\n",
    "ol = Overlay('../bitstream/iotSDR_GPS_Receiver.bit')\n",
    "#ol = Overlay('../bitstream/iotSDR_GPS_Receiver32k.bit')\n",
    "\n",
    "\n",
    "list(ol.ip_dict.keys())\n",
    "\n",
    "fft_data = ol.fft_data_accelerator.axi_dma_data_fft\n",
    "fft_config = ol.fft_data_accelerator.axi_dma_fft_config\n"
   ]
  },
  {
   "cell_type": "code",
   "execution_count": 24,
   "metadata": {},
   "outputs": [
    {
     "name": "stdout",
     "output_type": "stream",
     "text": [
      "0x0\n"
     ]
    }
   ],
   "source": [
    "IP_BASE_ADDRESS = 0x41210000\n",
    "ADDRESS_RANGE = 0x1000\n",
    "ADDRESS_OFFSET = 0x10\n",
    "\n",
    "from pynq import MMIO\n",
    "mmio = MMIO(IP_BASE_ADDRESS, ADDRESS_RANGE)\n",
    "\n",
    "#data = 0x00000000\n",
    "#mmio.write(ADDRESS_OFFSET, data)\n",
    "result = mmio.read(ADDRESS_OFFSET)\n",
    "print(hex(result))"
   ]
  },
  {
   "cell_type": "code",
   "execution_count": 25,
   "metadata": {},
   "outputs": [
    {
     "name": "stdout",
     "output_type": "stream",
     "text": [
      "GPS chip is configured for IF=0MHz @ 4.096MSPS\n",
      "GPS chip is configured for IF=4.0960MHz @ 16.368MSPS\n"
     ]
    }
   ],
   "source": [
    "import iotSDR_GPS_streamer as iotSDR_GPS_streamer\n",
    "import max2769_driver as max2769_driver\n",
    "\n",
    "wordsPerBlk    = 2*15\n",
    "gps_chip = max2769_driver.MAX2769()\n",
    "gps_chip.gps_4096IF_config()\n",
    "\n",
    "gps_pl   = iotSDR_GPS_streamer.GPS_RX_Streaming(wordsPerBlk,overlay=ol)\n"
   ]
  },
  {
   "cell_type": "code",
   "execution_count": 26,
   "metadata": {},
   "outputs": [
    {
     "name": "stderr",
     "output_type": "stream",
     "text": [
      "/usr/local/lib/python3.6/dist-packages/ipykernel_launcher.py:4: DeprecationWarning: pynq.Xlnk is deprecated and will be removed in 2.7 - use pynq.allocate instead\n",
      "  after removing the cwd from sys.path.\n"
     ]
    }
   ],
   "source": [
    "from pynq import Xlnk\n",
    "import numpy as np\n",
    "\n",
    "xlnk = Xlnk()\n",
    "\n",
    "\n",
    "def get_config_value(forwards, scaling_sched):\n",
    "    val = 0\n",
    "    for scaling in scaling_sched:     # [14:1] = scaling schedule\n",
    "        val = (val << 2) + scaling\n",
    "        \n",
    "    print(hex(val))\n",
    "    return (val << 1) + int(forwards) # [0] = direction\n",
    "\n",
    "def fft_config_update(forwards):\n",
    "    if forwards:\n",
    "        #config_value = get_config_value(forwards, [1,2, 2, 2, 2, 2, 2, 2])\n",
    "        config_value = get_config_value(forwards, [1,2, 2, 2, 2, 2, 2, 2])\n",
    "\n",
    "    else:\n",
    "        config_value = get_config_value(forwards, [0,0, 0, 0, 0, 0, 0, 0])\n",
    "  \n",
    "    fft_buffer_config = xlnk.cma_array(shape=(1,),dtype=np.int32)\n",
    "    fft_buffer_config[0] = config_value\n",
    "    fft_config.sendchannel.transfer(fft_buffer_config)\n",
    "    fft_config.sendchannel.wait()"
   ]
  },
  {
   "cell_type": "markdown",
   "metadata": {},
   "source": [
    "Compute the FFT\n",
    "---------------\n",
    "The FFT and a matching vector of frequencies"
   ]
  },
  {
   "cell_type": "code",
   "execution_count": 27,
   "metadata": {},
   "outputs": [],
   "source": [
    "def interleave_iq(signal):\n",
    "    print(signal)\n",
    "    sig = np.copy(signal)\n",
    "    i = np.array(sig.real,np.int16)\n",
    "    q = np.array(sig.imag,np.int16)\n",
    "    iq = np.concatenate([i,q])\n",
    "    iq[::2] = i\n",
    "    iq[1::2] = q\n",
    "    print((i[0]))\n",
    "\n",
    "    return iq\n",
    "\n",
    "def deinterleave_iq(signal):\n",
    "    return signal[0::2]+1j*signal[1::2]\n",
    "      \n",
    "\n",
    "import time\n",
    "def fft_hw(signal, NFFT):\n",
    "    \n",
    "    fft_in_buffer = xlnk.cma_array(shape=(NFFT*2,),dtype=np.int16)\n",
    "    fft_out_buffer = xlnk.cma_array(shape=(NFFT*2,),dtype=np.int16)\n",
    "    \n",
    "    fft_out = np.zeros(len(fft_out_buffer))\n",
    "    \n",
    "    #for i in range(0,max_iters):\n",
    "        #tic = time.time()\n",
    "    np.copyto(fft_in_buffer,signal[NFFT*0:2*(NFFT*(0+1))])\n",
    "    tic = time.time()\n",
    "    fft_data.sendchannel.transfer(fft_in_buffer)\n",
    "    fft_data.recvchannel.transfer(fft_out_buffer)\n",
    "\n",
    "    fft_data.sendchannel.wait()\n",
    "    fft_data.recvchannel.wait()\n",
    "    toc = time.time()\n",
    "    fft_out = np.array(fft_out_buffer)\n",
    "    print(\"fft loopback:\",fft_out_buffer)\n",
    "    print(\"fft loopback:\",fft_out)\n",
    "\n",
    "    \n",
    "    delta =  \"{:.20f}\".format((toc-tic)*1000000)\n",
    "    print(\"FFT Time(uSec):\", delta)\n",
    "    fft_out_buffer.close()\n",
    "    fft_in_buffer.close()\n",
    "    \n",
    "    return fft_out\n",
    "\n",
    "def fft_samples(NFFT):\n",
    "    \n",
    "    #fft_in_buffer = xlnk.cma_array(shape=(NFFT*2,),dtype=np.int16)\n",
    "    fft_out_buffer = xlnk.cma_array(shape=(NFFT*2,),dtype=np.int16)\n",
    "    \n",
    "    fft_out = np.zeros(len(fft_out_buffer))\n",
    "    \n",
    "    #for i in range(0,max_iters):\n",
    "        #tic = time.time()\n",
    "    #np.copyto(fft_in_buffer,signal[NFFT*0:2*(NFFT*(0+1))])\n",
    "    tic = time.time()\n",
    "    #fft_data.sendchannel.transfer(fft_in_buffer)\n",
    "    fft_data.recvchannel.transfer(fft_out_buffer)\n",
    "\n",
    "    #fft_data.sendchannel.wait()\n",
    "    fft_data.recvchannel.wait()\n",
    "    toc = time.time()\n",
    "    fft_out = np.array(fft_out_buffer)\n",
    "    print(\"fft_out\",fft_out)\n",
    "    \n",
    "    delta =  \"{:.20f}\".format((toc-tic)*1000000)\n",
    "    print(\"FFT Time(uSec):\", delta)\n",
    "    fft_out_buffer.close()\n",
    "    #fft_in_buffer.close()\n",
    "    \n",
    "    return fft_out    "
   ]
  },
  {
   "cell_type": "code",
   "execution_count": 28,
   "metadata": {},
   "outputs": [
    {
     "name": "stdout",
     "output_type": "stream",
     "text": [
      "[ -958.  +0.j  -703.+314.j  1214.+628.j ...,  -866.-942.j  -144.-628.j\n",
      " -1056.-314.j]\n",
      "-958\n",
      "0x6aaa\n"
     ]
    }
   ],
   "source": [
    "NFFT = 2**15\n",
    "\n",
    "# only perform FFT over small subset of data\n",
    "sig_fft_i = interleave_iq(x)\n",
    "fft_config_update(True)"
   ]
  },
  {
   "cell_type": "code",
   "execution_count": 35,
   "metadata": {},
   "outputs": [
    {
     "name": "stdout",
     "output_type": "stream",
     "text": [
      "fft loopback: [-15929      0 -26993 ...,  28888  22322 -32475]\n",
      "fft loopback: [-15929      0 -26993 ...,  28888  22322 -32475]\n",
      "FFT Time(uSec): 1180.17196655273437500000\n"
     ]
    },
    {
     "data": {
      "text/plain": [
       "array([-15929,      0, -26993, ...,  28888,  22322, -32475], dtype=int16)"
      ]
     },
     "execution_count": 35,
     "metadata": {},
     "output_type": "execute_result"
    }
   ],
   "source": [
    "\n",
    "sig_fft_frd = fft_hw(sig_fft_i,NFFT)\n",
    "#sig_fft_frd = fft_samples(NFFT)\n",
    "\n",
    "sig_fft_frd"
   ]
  },
  {
   "cell_type": "code",
   "execution_count": 30,
   "metadata": {},
   "outputs": [
    {
     "data": {
      "text/plain": [
       "[<matplotlib.lines.Line2D at 0xae6b1a70>]"
      ]
     },
     "execution_count": 30,
     "metadata": {},
     "output_type": "execute_result"
    },
    {
     "data": {
      "image/png": "[encoded data removed]",
      "text/plain": [
       "<matplotlib.figure.Figure at 0xae696f50>"
      ]
     },
     "metadata": {
      "needs_background": "light"
     },
     "output_type": "display_data"
    }
   ],
   "source": [
    "plt.plot(t[:], sig_fft_frd.real[:NFFT])\n"
   ]
  },
  {
   "cell_type": "code",
   "execution_count": 31,
   "metadata": {},
   "outputs": [
    {
     "name": "stdout",
     "output_type": "stream",
     "text": [
      "[ 4  0  0 ..., -6 -1  0]\n",
      "0x0\n",
      "fft loopback: [-1182   -70  -667 ...,  -563 -1013  -364]\n",
      "fft loopback: [-1182   -70  -667 ...,  -563 -1013  -364]\n",
      "FFT Time(uSec): 1220.70312500000000000000\n"
     ]
    },
    {
     "data": {
      "text/plain": [
       "array([-1182. -70.j,  -667.+220.j,  1384.+654.j, ...,  -917.-987.j,\n",
       "        -228.-563.j, -1013.-364.j])"
      ]
     },
     "execution_count": 31,
     "metadata": {},
     "output_type": "execute_result"
    }
   ],
   "source": [
    "gps_pl.select_iq_for_fft(0)\n",
    "print(sig_fft_frd)\n",
    "fft_config_update(False)\n",
    "sig_fft_inv = fft_hw(sig_fft_frd,NFFT)\n",
    "sig_fft_c = deinterleave_iq(sig_fft_inv)\n",
    "sig_fft_c"
   ]
  },
  {
   "cell_type": "code",
   "execution_count": 32,
   "metadata": {},
   "outputs": [
    {
     "data": {
      "text/plain": [
       "Text(0,0.5,'x')"
      ]
     },
     "execution_count": 32,
     "metadata": {},
     "output_type": "execute_result"
    },
    {
     "data": {
      "image/png": "[encoded data removed]",
      "text/plain": [
       "<matplotlib.figure.Figure at 0xae696370>"
      ]
     },
     "metadata": {
      "needs_background": "light"
     },
     "output_type": "display_data"
    }
   ],
   "source": [
    "plt.plot(t, sig_fft_c.real)\n",
    "plt.xlabel(\"Time (sec)\")\n",
    "plt.ylabel(\"x\")\n"
   ]
  },
  {
   "cell_type": "code",
   "execution_count": 14,
   "metadata": {
    "collapsed": false,
    "jupyter": {
     "outputs_hidden": false
    }
   },
   "outputs": [
    {
     "name": "stdout",
     "output_type": "stream",
     "text": [
      "32768\n"
     ]
    }
   ],
   "source": [
    "\n",
    "fft_x = np.fft.fft(x)\n",
    "fft_i = np.fft.ifft(fft_x)\n",
    "\n",
    "n = len(fft_x)\n",
    "print(n)\n",
    "#plt.plot(np.abs(fft_x))"
   ]
  },
  {
   "cell_type": "code",
   "execution_count": 15,
   "metadata": {},
   "outputs": [
    {
     "name": "stderr",
     "output_type": "stream",
     "text": [
      "/usr/lib/python3/dist-packages/numpy/core/numeric.py:531: ComplexWarning: Casting complex values to real discards the imaginary part\n",
      "  return array(a, dtype, copy=False, order=order)\n"
     ]
    },
    {
     "data": {
      "text/plain": [
       "Text(0,0.5,'x')"
      ]
     },
     "execution_count": 15,
     "metadata": {},
     "output_type": "execute_result"
    },
    {
     "data": {
      "image/png": "[encoded data removed]",
      "text/plain": [
       "<matplotlib.figure.Figure at 0xaf4b2990>"
      ]
     },
     "metadata": {
      "needs_background": "light"
     },
     "output_type": "display_data"
    }
   ],
   "source": [
    "plt.plot(t, fft_i)\n",
    "plt.xlabel(\"Time (sec)\")\n",
    "plt.ylabel(\"x\")"
   ]
  },
  {
   "cell_type": "code",
   "execution_count": 16,
   "metadata": {
    "collapsed": false,
    "jupyter": {
     "outputs_hidden": false
    }
   },
   "outputs": [
    {
     "data": {
      "text/plain": [
       "[<matplotlib.lines.Line2D at 0xad88c770>]"
      ]
     },
     "execution_count": 16,
     "metadata": {},
     "output_type": "execute_result"
    },
    {
     "data": {
      "image/png": "[encoded data removed]",
      "text/plain": [
       "<matplotlib.figure.Figure at 0xaf730db0>"
      ]
     },
     "metadata": {
      "needs_background": "light"
     },
     "output_type": "display_data"
    }
   ],
   "source": [
    "plt.plot(np.abs(sig_fft_frd))"
   ]
  },
  {
   "cell_type": "markdown",
   "metadata": {},
   "source": [
    "Swap Half Spaces\n",
    "----------------\n",
    "Note that frequencies in the FFT and the `freq` vector go from zero to some larger positive number then from a large negative number back toward zero. We can swap that so that the DC component is in the center of the vector while maintaining a two-sided spectrum."
   ]
  },
  {
   "cell_type": "code",
   "execution_count": 20,
   "metadata": {
    "collapsed": false,
    "jupyter": {
     "outputs_hidden": false
    }
   },
   "outputs": [
    {
     "data": {
      "text/plain": [
       "array([ 0.,  1.,  2., ..., -3., -2., -1.])"
      ]
     },
     "execution_count": 20,
     "metadata": {},
     "output_type": "execute_result"
    }
   ],
   "source": [
    "freq = np.fft.fftfreq(n, 1/fs)\n",
    "\n",
    "fft_x_shifted = np.fft.fftshift(sig_fft_frd)\n",
    "freq_shifted = np.fft.fftshift(freq)\n",
    "freq"
   ]
  },
  {
   "cell_type": "code",
   "execution_count": 18,
   "metadata": {
    "collapsed": false,
    "jupyter": {
     "outputs_hidden": false
    }
   },
   "outputs": [
    {
     "ename": "ValueError",
     "evalue": "x and y must have same first dimension, but have shapes (32768,) and (65536,)",
     "output_type": "error",
     "traceback": [
      "\u001b[0;31m---------------------------------------------------------------------------\u001b[0m",
      "\u001b[0;31mValueError\u001b[0m                                Traceback (most recent call last)",
      "\u001b[0;32m<ipython-input-18-ef41fa2991df>\u001b[0m in \u001b[0;36m<module>\u001b[0;34m\u001b[0m\n\u001b[0;32m----> 1\u001b[0;31m \u001b[0mplt\u001b[0m\u001b[0;34m.\u001b[0m\u001b[0mplot\u001b[0m\u001b[0;34m(\u001b[0m\u001b[0mfreq_shifted\u001b[0m\u001b[0;34m,\u001b[0m \u001b[0mnp\u001b[0m\u001b[0;34m.\u001b[0m\u001b[0mabs\u001b[0m\u001b[0;34m(\u001b[0m\u001b[0mfft_x_shifted\u001b[0m\u001b[0;34m)\u001b[0m\u001b[0;34m)\u001b[0m\u001b[0;34m\u001b[0m\u001b[0m\n\u001b[0m\u001b[1;32m      2\u001b[0m \u001b[0mplt\u001b[0m\u001b[0;34m.\u001b[0m\u001b[0mxlabel\u001b[0m\u001b[0;34m(\u001b[0m\u001b[0;34m\"Frequency (Hz)\"\u001b[0m\u001b[0;34m)\u001b[0m\u001b[0;34m\u001b[0m\u001b[0m\n",
      "\u001b[0;32m/usr/lib/python3/dist-packages/matplotlib/pyplot.py\u001b[0m in \u001b[0;36mplot\u001b[0;34m(*args, **kwargs)\u001b[0m\n\u001b[1;32m   3259\u001b[0m                       mplDeprecation)\n\u001b[1;32m   3260\u001b[0m     \u001b[0;32mtry\u001b[0m\u001b[0;34m:\u001b[0m\u001b[0;34m\u001b[0m\u001b[0m\n\u001b[0;32m-> 3261\u001b[0;31m         \u001b[0mret\u001b[0m \u001b[0;34m=\u001b[0m \u001b[0max\u001b[0m\u001b[0;34m.\u001b[0m\u001b[0mplot\u001b[0m\u001b[0;34m(\u001b[0m\u001b[0;34m*\u001b[0m\u001b[0margs\u001b[0m\u001b[0;34m,\u001b[0m \u001b[0;34m**\u001b[0m\u001b[0mkwargs\u001b[0m\u001b[0;34m)\u001b[0m\u001b[0;34m\u001b[0m\u001b[0m\n\u001b[0m\u001b[1;32m   3262\u001b[0m     \u001b[0;32mfinally\u001b[0m\u001b[0;34m:\u001b[0m\u001b[0;34m\u001b[0m\u001b[0m\n\u001b[1;32m   3263\u001b[0m         \u001b[0max\u001b[0m\u001b[0;34m.\u001b[0m\u001b[0m_hold\u001b[0m \u001b[0;34m=\u001b[0m \u001b[0mwashold\u001b[0m\u001b[0;34m\u001b[0m\u001b[0m\n",
      "\u001b[0;32m/usr/lib/python3/dist-packages/matplotlib/__init__.py\u001b[0m in \u001b[0;36minner\u001b[0;34m(ax, *args, **kwargs)\u001b[0m\n\u001b[1;32m   1716\u001b[0m                     warnings.warn(msg % (label_namer, func.__name__),\n\u001b[1;32m   1717\u001b[0m                                   RuntimeWarning, stacklevel=2)\n\u001b[0;32m-> 1718\u001b[0;31m             \u001b[0;32mreturn\u001b[0m \u001b[0mfunc\u001b[0m\u001b[0;34m(\u001b[0m\u001b[0max\u001b[0m\u001b[0;34m,\u001b[0m \u001b[0;34m*\u001b[0m\u001b[0margs\u001b[0m\u001b[0;34m,\u001b[0m \u001b[0;34m**\u001b[0m\u001b[0mkwargs\u001b[0m\u001b[0;34m)\u001b[0m\u001b[0;34m\u001b[0m\u001b[0m\n\u001b[0m\u001b[1;32m   1719\u001b[0m         \u001b[0mpre_doc\u001b[0m \u001b[0;34m=\u001b[0m \u001b[0minner\u001b[0m\u001b[0;34m.\u001b[0m\u001b[0m__doc__\u001b[0m\u001b[0;34m\u001b[0m\u001b[0m\n\u001b[1;32m   1720\u001b[0m         \u001b[0;32mif\u001b[0m \u001b[0mpre_doc\u001b[0m \u001b[0;32mis\u001b[0m \u001b[0;32mNone\u001b[0m\u001b[0;34m:\u001b[0m\u001b[0;34m\u001b[0m\u001b[0m\n",
      "\u001b[0;32m/usr/lib/python3/dist-packages/matplotlib/axes/_axes.py\u001b[0m in \u001b[0;36mplot\u001b[0;34m(self, *args, **kwargs)\u001b[0m\n\u001b[1;32m   1370\u001b[0m         \u001b[0mkwargs\u001b[0m \u001b[0;34m=\u001b[0m \u001b[0mcbook\u001b[0m\u001b[0;34m.\u001b[0m\u001b[0mnormalize_kwargs\u001b[0m\u001b[0;34m(\u001b[0m\u001b[0mkwargs\u001b[0m\u001b[0;34m,\u001b[0m \u001b[0m_alias_map\u001b[0m\u001b[0;34m)\u001b[0m\u001b[0;34m\u001b[0m\u001b[0m\n\u001b[1;32m   1371\u001b[0m \u001b[0;34m\u001b[0m\u001b[0m\n\u001b[0;32m-> 1372\u001b[0;31m         \u001b[0;32mfor\u001b[0m \u001b[0mline\u001b[0m \u001b[0;32min\u001b[0m \u001b[0mself\u001b[0m\u001b[0;34m.\u001b[0m\u001b[0m_get_lines\u001b[0m\u001b[0;34m(\u001b[0m\u001b[0;34m*\u001b[0m\u001b[0margs\u001b[0m\u001b[0;34m,\u001b[0m \u001b[0;34m**\u001b[0m\u001b[0mkwargs\u001b[0m\u001b[0;34m)\u001b[0m\u001b[0;34m:\u001b[0m\u001b[0;34m\u001b[0m\u001b[0m\n\u001b[0m\u001b[1;32m   1373\u001b[0m             \u001b[0mself\u001b[0m\u001b[0;34m.\u001b[0m\u001b[0madd_line\u001b[0m\u001b[0;34m(\u001b[0m\u001b[0mline\u001b[0m\u001b[0;34m)\u001b[0m\u001b[0;34m\u001b[0m\u001b[0m\n\u001b[1;32m   1374\u001b[0m             \u001b[0mlines\u001b[0m\u001b[0;34m.\u001b[0m\u001b[0mappend\u001b[0m\u001b[0;34m(\u001b[0m\u001b[0mline\u001b[0m\u001b[0;34m)\u001b[0m\u001b[0;34m\u001b[0m\u001b[0m\n",
      "\u001b[0;32m/usr/lib/python3/dist-packages/matplotlib/axes/_base.py\u001b[0m in \u001b[0;36m_grab_next_args\u001b[0;34m(self, *args, **kwargs)\u001b[0m\n\u001b[1;32m    402\u001b[0m                 \u001b[0mthis\u001b[0m \u001b[0;34m+=\u001b[0m \u001b[0margs\u001b[0m\u001b[0;34m[\u001b[0m\u001b[0;36m0\u001b[0m\u001b[0;34m]\u001b[0m\u001b[0;34m,\u001b[0m\u001b[0;34m\u001b[0m\u001b[0m\n\u001b[1;32m    403\u001b[0m                 \u001b[0margs\u001b[0m \u001b[0;34m=\u001b[0m \u001b[0margs\u001b[0m\u001b[0;34m[\u001b[0m\u001b[0;36m1\u001b[0m\u001b[0;34m:\u001b[0m\u001b[0;34m]\u001b[0m\u001b[0;34m\u001b[0m\u001b[0m\n\u001b[0;32m--> 404\u001b[0;31m             \u001b[0;32mfor\u001b[0m \u001b[0mseg\u001b[0m \u001b[0;32min\u001b[0m \u001b[0mself\u001b[0m\u001b[0;34m.\u001b[0m\u001b[0m_plot_args\u001b[0m\u001b[0;34m(\u001b[0m\u001b[0mthis\u001b[0m\u001b[0;34m,\u001b[0m \u001b[0mkwargs\u001b[0m\u001b[0;34m)\u001b[0m\u001b[0;34m:\u001b[0m\u001b[0;34m\u001b[0m\u001b[0m\n\u001b[0m\u001b[1;32m    405\u001b[0m                 \u001b[0;32myield\u001b[0m \u001b[0mseg\u001b[0m\u001b[0;34m\u001b[0m\u001b[0m\n\u001b[1;32m    406\u001b[0m \u001b[0;34m\u001b[0m\u001b[0m\n",
      "\u001b[0;32m/usr/lib/python3/dist-packages/matplotlib/axes/_base.py\u001b[0m in \u001b[0;36m_plot_args\u001b[0;34m(self, tup, kwargs)\u001b[0m\n\u001b[1;32m    382\u001b[0m             \u001b[0mx\u001b[0m\u001b[0;34m,\u001b[0m \u001b[0my\u001b[0m \u001b[0;34m=\u001b[0m \u001b[0mindex_of\u001b[0m\u001b[0;34m(\u001b[0m\u001b[0mtup\u001b[0m\u001b[0;34m[\u001b[0m\u001b[0;34m-\u001b[0m\u001b[0;36m1\u001b[0m\u001b[0;34m]\u001b[0m\u001b[0;34m)\u001b[0m\u001b[0;34m\u001b[0m\u001b[0m\n\u001b[1;32m    383\u001b[0m \u001b[0;34m\u001b[0m\u001b[0m\n\u001b[0;32m--> 384\u001b[0;31m         \u001b[0mx\u001b[0m\u001b[0;34m,\u001b[0m \u001b[0my\u001b[0m \u001b[0;34m=\u001b[0m \u001b[0mself\u001b[0m\u001b[0;34m.\u001b[0m\u001b[0m_xy_from_xy\u001b[0m\u001b[0;34m(\u001b[0m\u001b[0mx\u001b[0m\u001b[0;34m,\u001b[0m \u001b[0my\u001b[0m\u001b[0;34m)\u001b[0m\u001b[0;34m\u001b[0m\u001b[0m\n\u001b[0m\u001b[1;32m    385\u001b[0m \u001b[0;34m\u001b[0m\u001b[0m\n\u001b[1;32m    386\u001b[0m         \u001b[0;32mif\u001b[0m \u001b[0mself\u001b[0m\u001b[0;34m.\u001b[0m\u001b[0mcommand\u001b[0m \u001b[0;34m==\u001b[0m \u001b[0;34m'plot'\u001b[0m\u001b[0;34m:\u001b[0m\u001b[0;34m\u001b[0m\u001b[0m\n",
      "\u001b[0;32m/usr/lib/python3/dist-packages/matplotlib/axes/_base.py\u001b[0m in \u001b[0;36m_xy_from_xy\u001b[0;34m(self, x, y)\u001b[0m\n\u001b[1;32m    241\u001b[0m         \u001b[0;32mif\u001b[0m \u001b[0mx\u001b[0m\u001b[0;34m.\u001b[0m\u001b[0mshape\u001b[0m\u001b[0;34m[\u001b[0m\u001b[0;36m0\u001b[0m\u001b[0;34m]\u001b[0m \u001b[0;34m!=\u001b[0m \u001b[0my\u001b[0m\u001b[0;34m.\u001b[0m\u001b[0mshape\u001b[0m\u001b[0;34m[\u001b[0m\u001b[0;36m0\u001b[0m\u001b[0;34m]\u001b[0m\u001b[0;34m:\u001b[0m\u001b[0;34m\u001b[0m\u001b[0m\n\u001b[1;32m    242\u001b[0m             raise ValueError(\"x and y must have same first dimension, but \"\n\u001b[0;32m--> 243\u001b[0;31m                              \"have shapes {} and {}\".format(x.shape, y.shape))\n\u001b[0m\u001b[1;32m    244\u001b[0m         \u001b[0;32mif\u001b[0m \u001b[0mx\u001b[0m\u001b[0;34m.\u001b[0m\u001b[0mndim\u001b[0m \u001b[0;34m>\u001b[0m \u001b[0;36m2\u001b[0m \u001b[0;32mor\u001b[0m \u001b[0my\u001b[0m\u001b[0;34m.\u001b[0m\u001b[0mndim\u001b[0m \u001b[0;34m>\u001b[0m \u001b[0;36m2\u001b[0m\u001b[0;34m:\u001b[0m\u001b[0;34m\u001b[0m\u001b[0m\n\u001b[1;32m    245\u001b[0m             raise ValueError(\"x and y can be no greater than 2-D, but have \"\n",
      "\u001b[0;31mValueError\u001b[0m: x and y must have same first dimension, but have shapes (32768,) and (65536,)"
     ]
    },
    {
     "data": {
      "image/png": "[encoded data removed]",
      "text/plain": [
       "<matplotlib.figure.Figure at 0xaf49ce50>"
      ]
     },
     "metadata": {
      "needs_background": "light"
     },
     "output_type": "display_data"
    }
   ],
   "source": [
    "plt.plot(freq_shifted, np.abs(fft_x_shifted))\n",
    "plt.xlabel(\"Frequency (Hz)\")"
   ]
  },
  {
   "cell_type": "markdown",
   "metadata": {},
   "source": [
    "Fold Negative Frequencies and Scale\n",
    "------------------------------\n",
    "It's actually more common to look at just the first half of the unshifted FFT and frequency vectors and fold all the amplitude information into the positive frequencies. Furthermore, to get ampltude right, we must normalize by the length of the original FFT. Note the factor of $2/n$ in the following which accomplishes both the folding and scaling."
   ]
  },
  {
   "cell_type": "markdown",
   "metadata": {},
   "source": [
    "Now the spectrum contains spikes at the correct amplitudes at only positive frequencies, which are the only ones with physicality."
   ]
  },
  {
   "cell_type": "code",
   "execution_count": null,
   "metadata": {},
   "outputs": [],
   "source": []
  }
 ],
 "metadata": {
  "kernelspec": {
   "display_name": "Python 3",
   "language": "python",
   "name": "python3"
  },
  "language_info": {
   "codemirror_mode": {
    "name": "ipython",
    "version": 3
   },
   "file_extension": ".py",
   "mimetype": "text/x-python",
   "name": "python",
   "nbconvert_exporter": "python",
   "pygments_lexer": "ipython3",
   "version": "3.6.5"
  }
 },
 "nbformat": 4,
 "nbformat_minor": 4
}
