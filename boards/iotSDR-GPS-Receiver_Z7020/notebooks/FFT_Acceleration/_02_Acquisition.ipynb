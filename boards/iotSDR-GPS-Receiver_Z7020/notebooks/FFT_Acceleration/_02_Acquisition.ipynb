{
 "cells": [
  {
   "cell_type": "markdown",
   "metadata": {},
   "source": [
    "# Satellite Acquisition\n",
    "\n",
    "**BEFORE RUNNING THIS CODE: **Download the launch 12 GPS data [here](https://github.com/psas/Launch-12/blob/gh-pages/data/GPS/JGPS%40-32.041913222), and place it in the */resources* folder.\n",
    "\n",
    "This notebook demonstrates the satellite acquisition proccess, in which we determine which satellites are overhead. \n",
    "\n",
    "## Background\n",
    "This code implements the **parallel code phase search** algorithm, which is based on the mathematical concept of circular convolution. This method requires the usage of multiple fft operations, but it will find a satellite in the data (if one exists) in  single iteration. As with all of the algorithms, the parallel code phase search will need to be executed at multiple frequencies to account for the doppler shift as the satellite moves across the sky. It is possible that we will need to use a different algorithm when the code is running on an embedded platform.\n",
    "\n",
    "\n",
    "## Preamble"
   ]
  },
  {
   "cell_type": "code",
   "execution_count": 1,
   "metadata": {
    "collapsed": false,
    "jupyter": {
     "outputs_hidden": false
    }
   },
   "outputs": [
    {
     "ename": "ModuleNotFoundError",
     "evalue": "No module named 'GoldCode'",
     "output_type": "error",
     "traceback": [
      "\u001b[0;31m---------------------------------------------------------------------------\u001b[0m",
      "\u001b[0;31mModuleNotFoundError\u001b[0m                       Traceback (most recent call last)",
      "\u001b[0;32m<ipython-input-1-76e70c00dc2d>\u001b[0m in \u001b[0;36m<module>\u001b[0;34m\u001b[0m\n\u001b[1;32m      9\u001b[0m \u001b[0;32mif\u001b[0m \u001b[0mnb_dir\u001b[0m \u001b[0;32mnot\u001b[0m \u001b[0;32min\u001b[0m \u001b[0msys\u001b[0m\u001b[0;34m.\u001b[0m\u001b[0mpath\u001b[0m\u001b[0;34m:\u001b[0m\u001b[0;34m\u001b[0m\u001b[0m\n\u001b[1;32m     10\u001b[0m     \u001b[0msys\u001b[0m\u001b[0;34m.\u001b[0m\u001b[0mpath\u001b[0m\u001b[0;34m.\u001b[0m\u001b[0mappend\u001b[0m\u001b[0;34m(\u001b[0m\u001b[0mnb_dir\u001b[0m\u001b[0;34m)\u001b[0m\u001b[0;34m\u001b[0m\u001b[0m\n\u001b[0;32m---> 11\u001b[0;31m \u001b[0;32mimport\u001b[0m \u001b[0mGoldCode\u001b[0m\u001b[0;34m\u001b[0m\u001b[0m\n\u001b[0m\u001b[1;32m     12\u001b[0m \u001b[0;32mfrom\u001b[0m \u001b[0mGPSData\u001b[0m \u001b[0;32mimport\u001b[0m \u001b[0mIQData\u001b[0m\u001b[0;34m\u001b[0m\u001b[0m\n\u001b[1;32m     13\u001b[0m \u001b[0;32mfrom\u001b[0m \u001b[0mAcquisition\u001b[0m \u001b[0;32mimport\u001b[0m \u001b[0m_GetSecondLargest\u001b[0m\u001b[0;34m\u001b[0m\u001b[0m\n",
      "\u001b[0;31mModuleNotFoundError\u001b[0m: No module named 'GoldCode'"
     ]
    }
   ],
   "source": [
    "import numpy as np\n",
    "import matplotlib.pyplot as plt\n",
    "import matplotlib\n",
    "\n",
    "##Grabs the GoldCode module from the root of the repo\n",
    "import os\n",
    "import sys\n",
    "nb_dir = os.path.split(os.getcwd())[0]\n",
    "if nb_dir not in sys.path:\n",
    "    sys.path.append(nb_dir)\n",
    "import GoldCode \n",
    "from GPSData import IQData\n",
    "from Acquisition import _GetSecondLargest\n",
    "from Acquisition import acquire"
   ]
  },
  {
   "cell_type": "markdown",
   "metadata": {},
   "source": [
    "## Import data File\n",
    "\n",
    "As noted in the L-12 GPS data README, the sampling frequency is 4.092 MHz. and the IF is 0. Also note that the L1 signal hits the antenna at the 1.57542 GHz frequency (10.23 MHz x 154). This is dealt with by the hardware frontend, so we only have to concern ourselves with the 1.023 MHz BPSK modulated C/A code.\n",
    "\n",
    "Additional information on file \"JGPS@04.559925043\" can be found at: https://github.com/psas/Launch-12/tree/gh-pages/data/GPS\n",
    "\n",
    "Experimentation has shown that a 14ms data segment gives the best result when starting from the beginning of the launch data. The generated data only needs 1ms to get a successful acquisition. Besides speed, the issue with using a longer section of data is that a navigation data bit transition can cause the circular convolution to cancel itself out, and weaken or eliminate the acquisition of a satellite. Remember that these are 20ms apart, so if a 20ms signal section were used, the probability of a bit transition being present would be around 50 percent. Remember that a 11 or a -1-1 in the navigation message would not be a transition."
   ]
  },
  {
   "cell_type": "code",
   "execution_count": null,
   "metadata": {
    "collapsed": false,
    "jupyter": {
     "outputs_hidden": false
    }
   },
   "outputs": [],
   "source": [
    "# Need these to pass to importFile module\n",
    "fs = 4.092*10**6 # Sampling Frequency [Hz]\n",
    "\n",
    "NumberOfMilliseconds = 14  #14\n",
    "\n",
    "SampleLength = NumberOfMilliseconds*10**(-3)\n",
    "BytesToSkip = 0\n",
    "\n",
    "data = IQData()\n",
    "\n",
    "# Uncomment one of these lines to choose between Launch12 or gps-sdr-sim data\n",
    "data.importFile('../resources/JGPS@04.559925043', fs, SampleLength, BytesToSkip) #L- 12 data\n",
    "#data.importFile('../resources/test.max', fs, SampleLength, BytesToSkip)\n",
    "#data.importFile('../resources/test4092kHz.max', fs, SampleLength, BytesToSkip)\n",
    "#data.importFile('../resources/Single4092KHz5s.max', fs, SampleLength, BytesToSkip)\n",
    "\n",
    "BinWidth = (fs/len(data.CData))\n",
    "print(\"BinWidth is: %f [Hz]\"%(BinWidth))"
   ]
  },
  {
   "cell_type": "markdown",
   "metadata": {},
   "source": [
    "## Check out the imported data\n",
    "\n",
    "We will plot the first 100 samples to see what the signal looks like."
   ]
  },
  {
   "cell_type": "code",
   "execution_count": null,
   "metadata": {
    "collapsed": false,
    "jupyter": {
     "outputs_hidden": false
    }
   },
   "outputs": [],
   "source": [
    "# Convert to real data\n",
    "tReal, RData = data.ComplexToReal(data.CData)\n",
    "plt.plot(tReal, RData)\n",
    "\n",
    "# Set xaxis so first 100 samples are shown\n",
    "xmin,xmax = plt.xlim()\n",
    "plt.xlim(xmin,xmin + 100/(fs))\n",
    "\n",
    "plt.xlabel(\"t (seconds)\")\n",
    "plt.show()"
   ]
  },
  {
   "cell_type": "markdown",
   "metadata": {},
   "source": [
    "# FFT the data\n",
    "\n",
    "We need to take the fft of the IQ datastream."
   ]
  },
  {
   "cell_type": "code",
   "execution_count": null,
   "metadata": {
    "collapsed": false,
    "jupyter": {
     "outputs_hidden": false
    }
   },
   "outputs": [],
   "source": [
    "# Since we are using circular-convolution, nfft must be equal to the number of samples\n",
    "nfft = data.Nsamples\n",
    "deltaFreq = fs/nfft\n",
    "print(\"Calculated deltaFreq: %f [Hz]\" %(deltaFreq))\n",
    "\n",
    "# Generate frequency lists for plotting fft\n",
    "# Can use f for regular fft and fshift for shifted version\n",
    "fs_kHz = fs/1000 #Make easier to read\n",
    "f = np.linspace (0,fs_kHz,nfft, endpoint=False)\n",
    "fshift = np.linspace(-fs_kHz/2,fs_kHz/2,nfft,endpoint=False)\n",
    "\n",
    "\n",
    "# Reference data size section of book to pick the len param. Should be based sample rate\n",
    "ffC = np.fft.fft(data.CData, nfft)\n",
    "print(nfft)"
   ]
  },
  {
   "cell_type": "markdown",
   "metadata": {},
   "source": [
    "# Get a Gold Code\n",
    "\n",
    "For example purposes, we will first search for GPS SV 15. If you review historical GPS ephemeris data available online, you can see that SV 15 is visible at the time of Launch 12."
   ]
  },
  {
   "cell_type": "code",
   "execution_count": null,
   "metadata": {
    "collapsed": false,
    "jupyter": {
     "outputs_hidden": false
    },
    "scrolled": true
   },
   "outputs": [],
   "source": [
    "#Choose which satellite's C/A code is generated\n",
    "Satellite = 15\n",
    "\n",
    "# Generate a 1ms CA Code that repeats each chip 4 times to \n",
    "# match the sampling rate.\n",
    "CACode = GoldCode.getAcquisitionCode(Satellite, 4)\n",
    "\n",
    "# Repeat entire array for each ms of data sampled\n",
    "CACodeSampled = np.tile(CACode, int(data.sampleTime*1000))"
   ]
  },
  {
   "cell_type": "markdown",
   "metadata": {},
   "source": [
    "# Complex Conjugate of Gold Code fft\n",
    "\n",
    "Take the complex conjugate of the Gold Code [real(fft) - imag(fft)j], and then multiply it by the IQ fft. If this is done correctly there should be a spike about $10^7$ times as high as the noise. \n",
    "\n",
    "Our main output value from this is the **pseudo-signal to noise ratio**. This is the ratio of the max peak of the result and the second highest peak. \n"
   ]
  },
  {
   "cell_type": "code",
   "execution_count": null,
   "metadata": {
    "collapsed": false,
    "jupyter": {
     "outputs_hidden": false
    }
   },
   "outputs": [],
   "source": [
    "Codefft = np.fft.fft(CACodeSampled, nfft)\n",
    "\n",
    "GCConj = np.conjugate(Codefft)\n",
    "\n",
    "result = np.fft.ifft(GCConj * ffC,nfft)\n",
    "\n",
    "resultSQ = np.real(result*np.conjugate(result))\n",
    "\n",
    "t = np.linspace(0,SampleLength,nfft,endpoint=True) \n",
    "print(\"Length of t: %d\" %(len(t)))\n",
    "print(\"Length of IFFT: %d\" %(len(resultSQ)))\n",
    "\n",
    "#Plotting\n",
    "plt.plot(t,resultSQ)\n",
    "\n",
    "# Zoom in to one ms\n",
    "xmin,xmax = plt.xlim()\n",
    "plt.xlim(xmin,xmin + 0.001)\n",
    "plt.title(\"Cross-correlation without adjusting for doppler shift.\")\n",
    "plt.xlabel(\"Time (seconds)\")\n",
    "plt.show()\n",
    "\n",
    "\n",
    "# Search for largest value in 1 ms worth of data\n",
    "SecondLargestValue = _GetSecondLargest(resultSQ[0:int(fs*0.001)])\n",
    "\n",
    "# Pseudo SNR\n",
    "ResultsSNR = 10*np.log10(np.amax(resultSQ)/SecondLargestValue)\n",
    "print(\"SNR: %f\"%(ResultsSNR))\n",
    "\n",
    "print(\"Max Value: %f, at freqshift: %d, with index %d\"%(np.amax(resultSQ),0,np.argmax(resultSQ)))"
   ]
  },
  {
   "cell_type": "markdown",
   "metadata": {},
   "source": [
    "## Shift frequency using multiplication by a complex exponential\n",
    "\n",
    "Well, SV 15 seems to be nowhere to be found. The issue is that SV15 has a Doppler Shift as it moves across the sky. If it were directly overhead, we would not have to worry about it. We can go back to the historical data, and figure out that SV 15 should have a -1400Hz shift from our location. \n",
    "\n",
    "We can shift our data by 1400Hz by multiplying it by a complex exponential, and trying again.\n",
    "\n",
    "$$ (I + jQ) * e^{j \\omega t}$$"
   ]
  },
  {
   "cell_type": "code",
   "execution_count": null,
   "metadata": {
    "collapsed": false,
    "jupyter": {
     "outputs_hidden": false
    }
   },
   "outputs": [],
   "source": [
    "freqShift = 1400 #-12 #[Hz] -20\n",
    "\n",
    "\n",
    "# Initialize complex array\n",
    "CDataShifted = data.CData*np.exp(1j*2*np.pi*freqShift*data.t)\n",
    "fftCDataShifted = np.fft.fft(CDataShifted,nfft)\n",
    "\n",
    "result = np.fft.ifft(GCConj * fftCDataShifted,nfft)\n",
    "resultSQ = np.real(result*np.conjugate(result))\n",
    "resultLog = 10*np.log10(resultSQ)\n",
    "\n",
    "plt.plot(t,resultSQ)\n",
    "plt.title(\"Cross-correlation with doppler adjustment of %d Hz\"%(freqShift))\n",
    "plt.xlabel(\"Time (seconds)\")\n",
    "\n",
    "# Zoom in to one ms\n",
    "xmin,xmax = plt.xlim()\n",
    "plt.xlim(xmin,xmin + 0.001)\n",
    "plt.show()\n",
    "\n",
    "# Search for largest value in 1 ms worth of data\n",
    "SecondLargestValue = _GetSecondLargest(resultSQ[0:int(fs*0.001)])\n",
    "\n",
    "# Pseudo SNR\n",
    "ResultsSNR = 10*np.log10(np.amax(resultSQ)/SecondLargestValue)\n",
    "print(\"SNR: %f\"%(ResultsSNR))\n",
    "\n",
    "print(\"Max Value: %f, at freqshift: %d, with index: %d\"%(np.amax(resultSQ),freqShift,np.argmax(resultSQ)))"
   ]
  },
  {
   "cell_type": "markdown",
   "metadata": {},
   "source": [
    "## Shift through frequency and satellite range"
   ]
  },
  {
   "cell_type": "markdown",
   "metadata": {},
   "source": [
    "Now that we have seen what we should expect from the parallel code phase search, we can search across the frequency bands for doppler shifted satellites. We search 8kHz below, and 8kHz above the carrier frequency in 100Hz increments. More sensitive receivers can use larger bin sizes (500Hz or more instead of 100Hz). \n",
    "\n",
    "The outer loop iterates through each satellite, and executes an inner loop iterating over each frequency. The pseudo-SNR is returned from each iteration of the inner loop, and the outer loop saves the highest SNR for each satellite. "
   ]
  },
  {
   "cell_type": "code",
   "execution_count": null,
   "metadata": {
    "collapsed": false,
    "jupyter": {
     "outputs_hidden": false
    }
   },
   "outputs": [],
   "source": [
    "#Execute acquire function from Acquisition.py \n",
    "msForAcquisition = 14\n",
    "r = acquire(data,msForAcquisition, range(-8000, 8000, 100), range(1, 33))"
   ]
  },
  {
   "cell_type": "markdown",
   "metadata": {},
   "source": [
    "###### For this data sample (Launch 12, 4 seconds after launch) we should see the following satellites:\n",
    "\n",
    "Sat | S/N (dB-Hz) | doppler shift (Hz) | code phase (chips)\n",
    ":----- | -------:| -------:| --------:\n",
    " 1 | 13.287713  | -1209.276720 | 394.250000\n",
    " 4 | 13.700614 | 600.950356 | 547.750000\n",
    " 11 | 13.381992 | 612.980296 | 514.750000\n",
    " 13 | 13.554054 | -12.064141 | 655.250000\n",
    " 15 | 15.276798 | -1399.910091 | 489.750000\n",
    " \n",
    "The 6 strongest signals are highlighted in the output plot, and the reciever will create a channel for each one for tracking."
   ]
  }
 ],
 "metadata": {
  "anaconda-cloud": {},
  "kernelspec": {
   "display_name": "Python 3",
   "language": "python",
   "name": "python3"
  },
  "language_info": {
   "codemirror_mode": {
    "name": "ipython",
    "version": 3
   },
   "file_extension": ".py",
   "mimetype": "text/x-python",
   "name": "python",
   "nbconvert_exporter": "python",
   "pygments_lexer": "ipython3",
   "version": "3.6.5"
  }
 },
 "nbformat": 4,
 "nbformat_minor": 4
}
