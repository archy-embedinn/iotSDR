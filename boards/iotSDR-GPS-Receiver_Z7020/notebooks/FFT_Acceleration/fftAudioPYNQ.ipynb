{
 "cells": [
  {
   "cell_type": "markdown",
   "metadata": {},
   "source": [
    "# Introduction to DSP with PYNQ\n",
    "# 02: DSP & PYNQ\n",
    "\n",
    "> In the previous notebook, we used SciPy to analyse an audio recording of 2 birds and used filtering to isolate one of them. In this notebook the same techniques will be used but, this time, we'll be moving the software FFT and FIR functions over to FPGA hardware and controlling them using PYNQ as if they were software!\n",
    "\n",
    "## Reusing Code\n",
    "\n",
    "As this is a whole, new notebook we will need to: load in our audio file again, create a way to get our data into the pandas format for Plotly, and set up our plotting template. To keep things simple we can just reuse code from the previous lab rather than writing it all again."
   ]
  },
  {
   "cell_type": "code",
   "execution_count": null,
   "metadata": {},
   "outputs": [],
   "source": [
    "from scipy.io import wavfile\n",
    "import numpy as np\n",
    "\n",
    "fs, aud_in = wavfile.read(\"./birds.wav\")\n",
    "\n",
    "import plotly_express as px\n",
    "import pandas as pd\n",
    "\n",
    "# Derive a custom plotting template from `plotly_dark`\n",
    "import plotly.io as pio\n",
    "new_template = pio.templates['plotly_white']\n",
    "new_template.update(dict(layout = dict(\n",
    "        width         = 800,\n",
    "        autosize      = False,\n",
    "        legend        = dict(x=1.1),\n",
    "        paper_bgcolor = 'rgb(0,0,0,0)',\n",
    "        plot_bgcolor  = 'rgb(0,0,0,0)',\n",
    ")))\n",
    "\n",
    "# Register new template as the default\n",
    "pio.templates['light_plot'] = new_template\n",
    "pio.templates.default = 'light_plot'\n",
    "\n",
    "def to_freq_dataframe(samples, fs):\n",
    "    \"\"\"Create a pandas dataframe from an ndarray frequency domain samples\"\"\"\n",
    "    sample_freqs = np.linspace(0, fs, len(samples))\n",
    "    return pd.DataFrame(dict(\n",
    "        amplitude = samples[0:int(len(samples)/2)],  \n",
    "        freq      = sample_freqs[0:int(len(samples)/2)]\n",
    "    ))"
   ]
  },
  {
   "cell_type": "markdown",
   "metadata": {},
   "source": [
    "## Moving to Hardware\n",
    "\n",
    "The hardware design consists of a LogiCore FIR Compiler (with 99 reprogrammable weights), and a LogiCore FFT (with a fixed length of $2^{14}$). These are then connected, via AXI4-Stream, to the standard AXI DMAs that allow shared access to PS memory. The IPI diagram below shows how the filter and FFT IPs are both within their own hierarchy, this is for two reasons. One is to keep the top diagram simple and easy to follow, the other it makes referencing the IPs in PYNQ a little simpler.\n",
    "\n",
    "<img src=\"assets/dsp_pynq_top.png\" width=\"1200\"/>\n",
    "\n",
    "Of course, to get a better idea of how the hardware is set up, it's best to show you what is inside one of these hierarchies - let's look at the filter. You'll notice straight away that there's not a whole lot in here, just the FIR and a few DMAs for transferring our audio and configuration data. With PYNQ, this is all you need to be able to send data to and from your IP using AXI4-Stream!\n",
    "\n",
    "<img src=\"assets/dsp_pynq_filt.png\" width=\"900\"/>\n",
    "\n",
    "To start working with our design, we need to first download our bitstream onto the FPGA. PYNQ makes things simple by giving us the Overlay class..."
   ]
  },
  {
   "cell_type": "code",
   "execution_count": null,
   "metadata": {},
   "outputs": [],
   "source": [
    "from pynq import Overlay\n",
    "\n",
    "ol = Overlay('./hwfiles/design_1.bit')\n",
    "#ol = Overlay('../bitstream/iotSDR_GPS.bit',download=True)\n"
   ]
  },
  {
   "cell_type": "markdown",
   "metadata": {},
   "source": [
    "As easy as that! PYNQ also makes use of the accompanying Hardware Handoff (HWH) file to create a dictionary of the IP in the design. This helps with identifying any IP for which drivers can be automatically assigned, such as the DMAs. You can view the keys for IP dictionary by running the command in the cell below."
   ]
  },
  {
   "cell_type": "code",
   "execution_count": null,
   "metadata": {},
   "outputs": [],
   "source": [
    "list(ol.ip_dict.keys())"
   ]
  },
  {
   "cell_type": "markdown",
   "metadata": {},
   "source": [
    "Another great feature of PYNQ is having quick access to the entire register map of any IP in your design. As an example, let's have a look at our \"fft_data\" DMA. You can refer to [PG021](https://www.xilinx.com/support/documentation/ip_documentation/axi_dma/v7_1/pg021_axi_dma.pdf#page=12) to check these results."
   ]
  },
  {
   "cell_type": "code",
   "execution_count": null,
   "metadata": {},
   "outputs": [],
   "source": [
    "#ol.fft.fft_data.register_map"
   ]
  },
  {
   "cell_type": "markdown",
   "metadata": {},
   "source": [
    "Now that we have a better idea of how the hardware looks, let's start off with the FFT and check our signal in the frequency domain..."
   ]
  },
  {
   "cell_type": "markdown",
   "metadata": {},
   "source": [
    "## Hardware FFT\n",
    "\n",
    "First off we need to create the DMA objects for the FFT IP. There are two associated DMAs here, one for data, and the other for configuration. "
   ]
  },
  {
   "cell_type": "code",
   "execution_count": null,
   "metadata": {},
   "outputs": [],
   "source": [
    "fft_data = ol.fft_data_accelerator.axi_dma_data_fft\n",
    "fft_config = ol.fft_data_accelerator.axi_dma_fft_config\n"
   ]
  },
  {
   "cell_type": "markdown",
   "metadata": {},
   "source": [
    "We also need to create a Xlnk object, which is used to allocate PS memory for our IP on the PL."
   ]
  },
  {
   "cell_type": "code",
   "execution_count": null,
   "metadata": {},
   "outputs": [],
   "source": [
    "from pynq import Xlnk\n",
    "\n",
    "xlnk = Xlnk()"
   ]
  },
  {
   "cell_type": "markdown",
   "metadata": {},
   "source": [
    "The IP will be set up for a forward FFT with a selected scaling schedule. We do this by sending a single, 16-bit packet to the FFT AXI4-Stream config port. This involves a few steps:\n",
    "  - First we create our config packet (in this case it's easier to show in binary) \n",
    "  - Next we create a contiguous memory buffer using the Xlnk object\n",
    "  - Then we fill our buffer with the config packet\n",
    "  - Finally we transfer our packet to the DMA\n",
    "    \n",
    "To learn more about the FFT configuration, you can refer to [PG109](https://www.xilinx.com/support/documentation/ip_documentation/xfft/v9_1/pg109-xfft.pdf#page=16). And you can learn more about the DMA class in the [PYNQ documentation](https://pynq.readthedocs.io/en/v2.1/pynq_libraries/dma.html).\n",
    "\n"
   ]
  },
  {
   "cell_type": "code",
   "execution_count": null,
   "metadata": {},
   "outputs": [],
   "source": [
    "def get_config_value(forwards, scaling_sched):\n",
    "    val = 0\n",
    "    for scaling in scaling_sched:     # [14:1] = scaling schedule\n",
    "        val = (val << 2) + scaling\n",
    "    return (val << 1) + int(forwards) # [0] = direction\n",
    "\n",
    "config_value = get_config_value(True, [2, 2, 2, 2, 2, 2, 2])\n",
    "\n",
    "fft_buffer_config = xlnk.cma_array(shape=(1,),dtype=np.int16)\n",
    "\n",
    "fft_buffer_config[0] = config_value\n",
    "\n",
    "fft_config.sendchannel.transfer(fft_buffer_config)\n",
    "fft_config.sendchannel.wait()"
   ]
  },
  {
   "cell_type": "markdown",
   "metadata": {},
   "source": [
    "### Using the FFT\n",
    "\n",
    "The LogiCore FFT IP data port expects a complex number with 16-bit components (32-bits in total) with the real part in the lower 2-bytes. It returns an equivalent complex 32-bit output as well. \n",
    "\n",
    "As our input values are real only, we can just convert the signal to 32-bit values, ensuring the upper 2-bytes are 0."
   ]
  },
  {
   "cell_type": "code",
   "execution_count": null,
   "metadata": {},
   "outputs": [],
   "source": [
    "# Imag[31:16] Real[15:0] --- imag all zeros\n",
    "#aud_hw = np.asarray(aud_in,np.int32)\n",
    "\n",
    "fs = 4*4096.0 # Hz\n",
    "f   = 8*500.0 # Hz\n",
    "t = np.arange(0.0, 1.0, 1/fs)\n",
    "i = 1 * np.cos(2 * np.pi * f * t) #+ 2 * np.sin(10 * 2 * np.pi * f * time)\n",
    "q = 1 * np.sin(2 * np.pi * f * t) #+ 2 * np.sin(10 * 2 * np.pi * f * time)\n",
    "\n",
    "x = i + 1j*q\n",
    "x.real = np.int16(x.real/np.max(abs(x.real)) * (2**15 - 1))\n",
    "x.imag = np.int16(x.imag/np.max(abs(x.imag)) * (2**15 - 1))\n",
    "print(x)\n",
    "\n",
    "#aud_hw = np.asarray(x.real,np.int32)\n",
    "#print(aud_hw)\n",
    "\n",
    "def interleave_iq(signal):\n",
    "    i = np.array(signal.real,np.int16)\n",
    "    q = np.array(signal.imag,np.int16)\n",
    "    iq = np.concatenate([i,q])\n",
    "    iq[::2] = i\n",
    "    iq[1::2] = q\n",
    "    return iq\n",
    "\n",
    "aud_hw = interleave_iq(x)"
   ]
  },
  {
   "cell_type": "markdown",
   "metadata": {},
   "source": [
    "Now all we need to do is set up our FFT data buffers and transfer the data. Our FFT is set up in *Non Real Time* throttle scheme, so for every frame of data we transmit, we need to read a frame of data out. \n",
    "\n",
    "This would be simple if our signal was an exact multiple of a frame length (in our case 16384 samples), but unfortunately that rarely happens in the real world. To counteract this mismatch in length we need to append zeros to our signal up to the next frame length.\n",
    "\n",
    "We can do this all within one function as shown in the next cell. You will recognise some of the syntax from the DMA transfer when we sent the configuration packet. The only difference here is that we also expect a packet *back* from the DMA this time as well, so we need to set up an output buffer."
   ]
  },
  {
   "cell_type": "code",
   "execution_count": null,
   "metadata": {},
   "outputs": [],
   "source": [
    "def fft_hw(signal, NFFT):\n",
    "    # calculate how many NFFT frames are needed to iterate through entire signal\n",
    "    #max_iters = np.int16(np.ceil(len(signal)/NFFT))\n",
    "    # calculate amount of zeros to add to make up to NFFT multiple\n",
    "    #zeros = np.int16(np.ceil(len(signal)/NFFT))*NFFT - len(signal)\n",
    "    # increase length to multiple of NFFT\n",
    "    #signal = np.int32(np.append(signal, np.zeros(zeros)))\n",
    "    \n",
    "    fft_in_buffer = xlnk.cma_array(shape=(NFFT*2,),dtype=np.int16)\n",
    "    fft_out_buffer = xlnk.cma_array(shape=(NFFT*2,),dtype=np.int16)\n",
    "    \n",
    "    fft_out = np.zeros(len(fft_out_buffer))\n",
    "    print(len(fft_out))\n",
    "    #for i in range(0,max_iters):\n",
    "    np.copyto(fft_in_buffer,signal[NFFT*0:2*(NFFT*(0+1))])\n",
    "\n",
    "    fft_data.sendchannel.transfer(fft_in_buffer)\n",
    "    fft_data.recvchannel.transfer(fft_out_buffer)\n",
    "\n",
    "    fft_data.sendchannel.wait()\n",
    "    fft_data.recvchannel.wait()\n",
    "\n",
    "    fft_out = np.array(fft_out_buffer)\n",
    "        \n",
    "    fft_out_buffer.close()\n",
    "    fft_in_buffer.close()\n",
    "        \n",
    "    return fft_out"
   ]
  },
  {
   "cell_type": "markdown",
   "metadata": {},
   "source": [
    "It's important to note here that the function we just created now works in the same way as the SciPy equivalent that we used in the last lab (i.e. it takes the same data and the same arguments) - but this time the FFT is in hardware. This really shows the power of PYNQ: that you can so easily switch between hardware and software and never feel like you've moved between either!\n",
    "\n",
    "With that said, let's apply the hardware FFT to our audio file..."
   ]
  },
  {
   "cell_type": "code",
   "execution_count": null,
   "metadata": {},
   "outputs": [],
   "source": [
    "NFFT = 2**14\n",
    "# only perform FFT over small subset of data\n",
    "#aud_fft = fft_hw(aud_hw[np.int16(fs*0.3):np.int16(fs*0.718)],NFFT)\n",
    "aud_fft = fft_hw(aud_hw,NFFT)"
   ]
  },
  {
   "cell_type": "markdown",
   "metadata": {},
   "source": [
    "You may have noticed in the function definition that the output buffer is comprised of 16-bit integers while the input buffer has 32-bit integers. You may also have noticed that the length of the output array is double that of the input. Why are we doing this? Well, this is an intentional exploitation of a NumPy feature, where our 32-bit value will be reshaped into two 16-bit values. We use this to make it easier for ourselves to combine the complex output values together, seen in the cell below..."
   ]
  },
  {
   "cell_type": "code",
   "execution_count": null,
   "metadata": {},
   "outputs": [],
   "source": [
    "# make complex number x[n] + j*x[n+1]\n",
    "#aud_fft_c = np.int16(aud_fft[0::2])+1j*np.int16(aud_fft[1::2])\n",
    "aud_fft_c = aud_fft[::2] + 1j * aud_fft[1::2]"
   ]
  },
  {
   "cell_type": "markdown",
   "metadata": {},
   "source": [
    "We then take the magnitude of our complex values and plot the results."
   ]
  },
  {
   "cell_type": "code",
   "execution_count": null,
   "metadata": {},
   "outputs": [],
   "source": [
    "#fft_x_shifted = np.fft.fftshift(aud_fft_c)\n",
    "aud_fft_abs = np.abs(aud_fft_c)\n",
    "\n",
    "# Plot FFT\n",
    "px.line(\n",
    "    to_freq_dataframe(aud_fft_abs, fs),\n",
    "    x='freq', y='amplitude',\n",
    "    labels = dict(amplitude='Amplitude', freq='Freq (Hz)'),\n",
    "    template='light_plot'\n",
    ")"
   ]
  },
  {
   "cell_type": "code",
   "execution_count": null,
   "metadata": {},
   "outputs": [],
   "source": []
  },
  {
   "cell_type": "code",
   "execution_count": null,
   "metadata": {},
   "outputs": [],
   "source": []
  }
 ],
 "metadata": {
  "kernelspec": {
   "display_name": "Python 3",
   "language": "python",
   "name": "python3"
  },
  "language_info": {
   "codemirror_mode": {
    "name": "ipython",
    "version": 3
   },
   "file_extension": ".py",
   "mimetype": "text/x-python",
   "name": "python",
   "nbconvert_exporter": "python",
   "pygments_lexer": "ipython3",
   "version": "3.6.5"
  }
 },
 "nbformat": 4,
 "nbformat_minor": 4
}
