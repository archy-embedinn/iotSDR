{
 "cells": [
  {
   "cell_type": "markdown",
   "metadata": {},
   "source": [
    "# Working with Numpy FFT Results: Scaling and Folding"
   ]
  },
  {
   "cell_type": "markdown",
   "metadata": {},
   "source": [
    "Imports\n",
    "-------"
   ]
  },
  {
   "cell_type": "code",
   "execution_count": 1,
   "metadata": {
    "jupyter": {
     "outputs_hidden": false
    }
   },
   "outputs": [],
   "source": [
    "%matplotlib inline\n",
    "import numpy as np\n",
    "import matplotlib.pyplot as plt"
   ]
  },
  {
   "cell_type": "markdown",
   "metadata": {},
   "source": [
    "Create a Test Signal\n",
    "--------------------\n",
    "$f_s$ is the sampling frequency, while $f$ is a base frequency for the signal content. We create a signal that contains components at a couple of multiples of this base frequency. Note the amplitudes here since we will be trying to extract those correctly from the FFT later."
   ]
  },
  {
   "cell_type": "code",
   "execution_count": 2,
   "metadata": {
    "jupyter": {
     "outputs_hidden": false
    }
   },
   "outputs": [
    {
     "name": "stdout",
     "output_type": "stream",
     "text": [
      "[ 32767.    +0.j  28259.-16586.j  15975.-28608.j ...,   -703.+32759.j\n",
      "  15975.+28608.j  28259.+16586.j]\n",
      "[ 32767.    +0.j  28259.-16586.j  15975.-28608.j ...,   -703.+32759.j\n",
      "  15975.+28608.j  28259.+16586.j]\n"
     ]
    }
   ],
   "source": [
    "fs = 4*4096.0 # Hz\n",
    "f   = 15000.0 # Hz\n",
    "t = np.arange(0.0, 1.0, 1/fs)\n",
    "i = 1 * np.cos(2 * np.pi * f * t) #+ 2 * np.sin(10 * 2 * np.pi * f * time)\n",
    "q = 1 * np.sin(2 * np.pi * f * t) #+ 2 * np.sin(10 * 2 * np.pi * f * time)\n",
    "\n",
    "x = i + 1j*q\n",
    "x.real = np.int16(x.real/np.max(abs(x.real)) * (2**15 - 1))\n",
    "x.imag = np.int16(x.imag/np.max(abs(x.imag)) * (2**15 - 1))\n",
    "print(x)\n",
    "print(x)\n"
   ]
  },
  {
   "cell_type": "code",
   "execution_count": 3,
   "metadata": {
    "jupyter": {
     "outputs_hidden": false
    }
   },
   "outputs": [
    {
     "name": "stderr",
     "output_type": "stream",
     "text": [
      "/usr/lib/python3/dist-packages/numpy/core/numeric.py:531: ComplexWarning: Casting complex values to real discards the imaginary part\n",
      "  return array(a, dtype, copy=False, order=order)\n"
     ]
    },
    {
     "data": {
      "text/plain": [
       "Text(0,0.5,'x')"
      ]
     },
     "execution_count": 3,
     "metadata": {},
     "output_type": "execute_result"
    },
    {
     "data": {
      "image/png": "[encoded data removed]",
      "text/plain": [
       "<matplotlib.figure.Figure at 0xaf830ff0>"
      ]
     },
     "metadata": {
      "needs_background": "light"
     },
     "output_type": "display_data"
    }
   ],
   "source": [
    "plt.plot(t, x)\n",
    "plt.xlabel(\"Time (sec)\")\n",
    "plt.ylabel(\"x\")"
   ]
  },
  {
   "cell_type": "code",
   "execution_count": 5,
   "metadata": {},
   "outputs": [
    {
     "data": {
      "text/plain": [
       "['GPS_Receiver_IQ_Streamer/axi_dma_0',\n",
       " 'fft_data_accelerator/axi_dma_data_fft',\n",
       " 'fft_data_accelerator/axi_dma_fft_config',\n",
       " 'axi_gpio_0',\n",
       " 'GPS_Receiver_IQ_Streamer/gps_ip_settings',\n",
       " 'axi_intc_0',\n",
       " 'processing_system7_0']"
      ]
     },
     "execution_count": 5,
     "metadata": {},
     "output_type": "execute_result"
    }
   ],
   "source": [
    "from pynq import Overlay\n",
    "\n",
    "#ol = Overlay('./iotSDR_GPS.bit')\n",
    "ol = Overlay('./hwfiles/design_1.bit')\n",
    "list(ol.ip_dict.keys())\n",
    "\n",
    "fft_data = ol.fft_data_accelerator.axi_dma_data_fft\n",
    "fft_config = ol.fft_data_accelerator.axi_dma_fft_config\n"
   ]
  },
  {
   "cell_type": "code",
   "execution_count": 6,
   "metadata": {},
   "outputs": [
    {
     "name": "stdout",
     "output_type": "stream",
     "text": [
      "0x2aaa\n"
     ]
    },
    {
     "name": "stderr",
     "output_type": "stream",
     "text": [
      "/usr/local/lib/python3.6/dist-packages/ipykernel_launcher.py:7: DeprecationWarning: pynq.Xlnk is deprecated and will be removed in 2.7 - use pynq.allocate instead\n",
      "  import sys\n"
     ]
    }
   ],
   "source": [
    "\n",
    "from pynq import Xlnk\n",
    "import numpy as np\n",
    "\n",
    "xlnk = Xlnk()\n",
    "def get_config_value(forwards, scaling_sched):\n",
    "    val = 0\n",
    "    for scaling in scaling_sched:     # [14:1] = scaling schedule\n",
    "        val = (val << 2) + scaling\n",
    "        \n",
    "    print(hex(val))\n",
    "    return (val << 1) + int(forwards) # [0] = direction\n",
    "\n",
    "config_value = get_config_value(True, [2, 2, 2, 2, 2, 2, 2])\n",
    "\n",
    "fft_buffer_config = xlnk.cma_array(shape=(1,),dtype=np.int16)\n",
    "fft_buffer_config[0] = config_value\n",
    "fft_config.sendchannel.transfer(fft_buffer_config)\n",
    "fft_config.sendchannel.wait()"
   ]
  },
  {
   "cell_type": "markdown",
   "metadata": {},
   "source": [
    "Compute the FFT\n",
    "---------------\n",
    "The FFT and a matching vector of frequencies"
   ]
  },
  {
   "cell_type": "code",
   "execution_count": 7,
   "metadata": {},
   "outputs": [],
   "source": [
    "def interleave_iq(signal):\n",
    "    print(signal)\n",
    "    sig = np.copy(signal)\n",
    "    i = np.array(sig.real,np.int16)\n",
    "    q = np.array(sig.imag,np.int16)\n",
    "    iq = np.concatenate([i,q])\n",
    "    iq[::2] = i\n",
    "    iq[1::2] = q\n",
    "    print(iq)\n",
    "\n",
    "    return iq\n",
    "\n",
    "def deinterleave_iq(signal):\n",
    "    return signal[0::2]+1j*signal[1::2]\n",
    "      \n",
    "\n",
    "import time\n",
    "def fft_hw(signal, NFFT):\n",
    "    # calculate how many NFFT frames are needed to iterate through entire signal\n",
    "    #max_iters = np.int16(np.ceil(len(signal)/NFFT)) - 1\n",
    "    #print(max_iters)\n",
    "    # calculate amount of zeros to add to make up to NFFT multiple\n",
    "    #zeros = np.int16(np.ceil(len(signal)/NFFT))*NFFT - len(signal)\n",
    "    # increase length to multiple of NFFT\n",
    "    #signal = np.int32(np.append(signal, np.zeros(zeros)))\n",
    "    \n",
    "    fft_in_buffer = xlnk.cma_array(shape=(NFFT*2,),dtype=np.int16)\n",
    "    fft_out_buffer = xlnk.cma_array(shape=(NFFT*2,),dtype=np.int16)\n",
    "    \n",
    "    fft_out = np.zeros(len(fft_out_buffer))\n",
    "    \n",
    "    #for i in range(0,max_iters):\n",
    "        #tic = time.time()\n",
    "    np.copyto(fft_in_buffer,signal[NFFT*0:2*(NFFT*(0+1))])\n",
    "    tic = time.time()\n",
    "    fft_data.sendchannel.transfer(fft_in_buffer)\n",
    "    fft_data.recvchannel.transfer(fft_out_buffer)\n",
    "\n",
    "    fft_data.sendchannel.wait()\n",
    "    fft_data.recvchannel.wait()\n",
    "    toc = time.time()\n",
    "    fft_out = np.array(fft_out_buffer)\n",
    "\n",
    "    delta =  \"{:.20f}\".format((toc-tic)*1000000)\n",
    "    print(\"FFT Time(uSec):\", delta)\n",
    "    fft_out_buffer.close()\n",
    "    fft_in_buffer.close()\n",
    "    \n",
    "    return fft_out    "
   ]
  },
  {
   "cell_type": "code",
   "execution_count": 8,
   "metadata": {},
   "outputs": [
    {
     "data": {
      "text/plain": [
       "'plt.plot(t, x)\\nplt.xlabel(\"Time (sec)\")\\nplt.ylabel(\"x\")\\nx_i = interleave_iq(x)\\nprint(x.shape)\\nx_d = deinterleave_iq(x_i)\\n'"
      ]
     },
     "execution_count": 8,
     "metadata": {},
     "output_type": "execute_result"
    }
   ],
   "source": [
    "\"\"\"plt.plot(t, x)\n",
    "plt.xlabel(\"Time (sec)\")\n",
    "plt.ylabel(\"x\")\n",
    "x_i = interleave_iq(x)\n",
    "print(x.shape)\n",
    "x_d = deinterleave_iq(x_i)\n",
    "\"\"\""
   ]
  },
  {
   "cell_type": "code",
   "execution_count": 9,
   "metadata": {},
   "outputs": [
    {
     "name": "stdout",
     "output_type": "stream",
     "text": [
      "[ 32767.    +0.j  28259.-16586.j  15975.-28608.j ...,   -703.+32759.j\n",
      "  15975.+28608.j  28259.+16586.j]\n",
      "[32767     0 28259 ..., 28608 28259 16586]\n",
      "FFT Time(uSec): 812.29209899902343750000\n",
      "16384 16384\n",
      "[32767     0 28259 ..., 28608 28259 16586]\n",
      "[0 0 0 ..., 0 0 0]\n",
      "[ 0.+0.j  0.+0.j  0.+0.j ...,  0.+0.j  0.+0.j  0.+0.j]\n"
     ]
    }
   ],
   "source": [
    "NFFT = 2**14\n",
    "\n",
    "\n",
    "# only perform FFT over small subset of data\n",
    "sig_fft_i = interleave_iq(x)\n",
    "sig_fft = fft_hw(sig_fft_i,NFFT)\n",
    "# make complex number x[n] + j*x[n+1]\n",
    "#sig_fft_c = deinterleave_iq(sig_fft)\n",
    "sig_fft_c = deinterleave_iq(sig_fft)\n",
    "\n",
    "#sig_fft_c = np.fft.fftshift(sig_fft_c)\n",
    "print(len(x),len(sig_fft_c))\n",
    "print(sig_fft_i)\n",
    "print(sig_fft)\n",
    "print(sig_fft_c)\n"
   ]
  },
  {
   "cell_type": "code",
   "execution_count": 10,
   "metadata": {
    "jupyter": {
     "outputs_hidden": false
    }
   },
   "outputs": [
    {
     "name": "stdout",
     "output_type": "stream",
     "text": [
      "16384\n"
     ]
    },
    {
     "data": {
      "text/plain": [
       "[<matplotlib.lines.Line2D at 0xaf586370>]"
      ]
     },
     "execution_count": 10,
     "metadata": {},
     "output_type": "execute_result"
    },
    {
     "data": {
      "image/png": "[encoded data removed]",
      "text/plain": [
       "<matplotlib.figure.Figure at 0xaf586310>"
      ]
     },
     "metadata": {
      "needs_background": "light"
     },
     "output_type": "display_data"
    }
   ],
   "source": [
    "\n",
    "fft_x = np.fft.fft(x)\n",
    "n = len(fft_x)\n",
    "print(n)\n",
    "plt.plot(np.abs(fft_x))"
   ]
  },
  {
   "cell_type": "code",
   "execution_count": 11,
   "metadata": {
    "jupyter": {
     "outputs_hidden": false
    }
   },
   "outputs": [
    {
     "data": {
      "text/plain": [
       "[<matplotlib.lines.Line2D at 0xae5f7230>]"
      ]
     },
     "execution_count": 11,
     "metadata": {},
     "output_type": "execute_result"
    },
    {
     "data": {
      "image/png": "[encoded data removed]",
      "text/plain": [
       "<matplotlib.figure.Figure at 0xaecb9570>"
      ]
     },
     "metadata": {
      "needs_background": "light"
     },
     "output_type": "display_data"
    }
   ],
   "source": [
    "plt.plot(np.abs(sig_fft_c))"
   ]
  },
  {
   "cell_type": "markdown",
   "metadata": {},
   "source": [
    "Swap Half Spaces\n",
    "----------------\n",
    "Note that frequencies in the FFT and the `freq` vector go from zero to some larger positive number then from a large negative number back toward zero. We can swap that so that the DC component is in the center of the vector while maintaining a two-sided spectrum."
   ]
  },
  {
   "cell_type": "code",
   "execution_count": 12,
   "metadata": {
    "jupyter": {
     "outputs_hidden": false
    }
   },
   "outputs": [],
   "source": [
    "freq = np.fft.fftfreq(n, 1/fs)\n",
    "fft_x_shifted = np.fft.fftshift(sig_fft_c)\n",
    "freq_shifted = np.fft.fftshift(freq)"
   ]
  },
  {
   "cell_type": "code",
   "execution_count": 13,
   "metadata": {
    "jupyter": {
     "outputs_hidden": false
    }
   },
   "outputs": [
    {
     "data": {
      "text/plain": [
       "Text(0.5,0,'Frequency (Hz)')"
      ]
     },
     "execution_count": 13,
     "metadata": {},
     "output_type": "execute_result"
    },
    {
     "data": {
      "image/png": "[encoded data removed]",
      "text/plain": [
       "<matplotlib.figure.Figure at 0xaf830c50>"
      ]
     },
     "metadata": {
      "needs_background": "light"
     },
     "output_type": "display_data"
    }
   ],
   "source": [
    "plt.plot(freq_shifted, np.abs(fft_x_shifted))\n",
    "plt.xlabel(\"Frequency (Hz)\")"
   ]
  },
  {
   "cell_type": "markdown",
   "metadata": {},
   "source": [
    "Fold Negative Frequencies and Scale\n",
    "------------------------------\n",
    "It's actually more common to look at just the first half of the unshifted FFT and frequency vectors and fold all the amplitude information into the positive frequencies. Furthermore, to get ampltude right, we must normalize by the length of the original FFT. Note the factor of $2/n$ in the following which accomplishes both the folding and scaling."
   ]
  },
  {
   "cell_type": "markdown",
   "metadata": {},
   "source": [
    "Now the spectrum contains spikes at the correct amplitudes at only positive frequencies, which are the only ones with physicality."
   ]
  },
  {
   "cell_type": "code",
   "execution_count": null,
   "metadata": {},
   "outputs": [],
   "source": []
  }
 ],
 "metadata": {
  "kernelspec": {
   "display_name": "Python 3",
   "language": "python",
   "name": "python3"
  },
  "language_info": {
   "codemirror_mode": {
    "name": "ipython",
    "version": 3
   },
   "file_extension": ".py",
   "mimetype": "text/x-python",
   "name": "python",
   "nbconvert_exporter": "python",
   "pygments_lexer": "ipython3",
   "version": "3.6.5"
  }
 },
 "nbformat": 4,
 "nbformat_minor": 4
}
